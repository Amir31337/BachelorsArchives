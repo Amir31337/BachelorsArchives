{
  "nbformat": 4,
  "nbformat_minor": 0,
  "metadata": {
    "colab": {
      "name": "Proposal v 0.1.ipynb",
      "provenance": [],
      "authorship_tag": "ABX9TyPkx7V/tjzcs61gbG5vTOZ2",
      "include_colab_link": true
    },
    "kernelspec": {
      "name": "python3",
      "display_name": "Python 3"
    },
    "language_info": {
      "name": "python"
    }
  },
  "cells": [
    {
      "cell_type": "markdown",
      "metadata": {
        "id": "view-in-github",
        "colab_type": "text"
      },
      "source": [
        "<a href=\"https://colab.research.google.com/github/amirghnt/AcademicProjects/blob/main/Proposal_v_0_1.ipynb\" target=\"_parent\"><img src=\"https://colab.research.google.com/assets/colab-badge.svg\" alt=\"Open In Colab\"/></a>"
      ]
    },
    {
      "cell_type": "code",
      "execution_count": 5,
      "metadata": {
        "colab": {
          "base_uri": "https://localhost:8080/"
        },
        "id": "pnoDEsc4eRkt",
        "outputId": "8ee041e0-36c0-406b-c619-b4ee6303462d"
      },
      "outputs": [
        {
          "output_type": "stream",
          "name": "stdout",
          "text": [
            "Looking in indexes: https://pypi.org/simple, https://us-python.pkg.dev/colab-wheels/public/simple/\n",
            "Requirement already satisfied: openpyxl in /usr/local/lib/python3.7/dist-packages (3.0.10)\n",
            "Requirement already satisfied: et-xmlfile in /usr/local/lib/python3.7/dist-packages (from openpyxl) (1.1.0)\n",
            "Looking in indexes: https://pypi.org/simple, https://us-python.pkg.dev/colab-wheels/public/simple/\n",
            "Requirement already satisfied: pulp in /usr/local/lib/python3.7/dist-packages (2.6.0)\n",
            "Drive already mounted at /content/drive; to attempt to forcibly remount, call drive.mount(\"/content/drive\", force_remount=True).\n"
          ]
        }
      ],
      "source": [
        "import numpy as np\n",
        "import pandas as pd\n",
        "import networkx as nx\n",
        "import matplotlib.pyplot as plt\n",
        "import plotly.graph_objects as go\n",
        "import seaborn as sns\n",
        "\n",
        "!pip install openpyxl\n",
        "!pip install pulp\n",
        "\n",
        "import pulp\n",
        "\n",
        "from google.colab import drive\n",
        "drive.mount('/content/drive')"
      ]
    },
    {
      "cell_type": "code",
      "source": [
        "OrderList = pd.read_excel('/content/drive/MyDrive/ACO/Supply chain logisitcs problem.xlsx', sheet_name='OrderList')\n",
        "FreightRates = pd.read_excel('/content/drive/MyDrive/ACO/Supply chain logisitcs problem.xlsx', sheet_name='FreightRates')\n",
        "WhCosts = pd.read_excel('/content/drive/MyDrive/ACO/Supply chain logisitcs problem.xlsx', sheet_name='WhCosts')\n",
        "WhCapacities = pd.read_excel('/content/drive/MyDrive/ACO/Supply chain logisitcs problem.xlsx', sheet_name='WhCapacities')\n",
        "ProductsPerPlant = pd.read_excel('/content/drive/MyDrive/ACO/Supply chain logisitcs problem.xlsx', sheet_name='ProductsPerPlant')\n",
        "VmiCustomers = pd.read_excel('/content/drive/MyDrive/ACO/Supply chain logisitcs problem.xlsx', sheet_name='VmiCustomers')\n",
        "PlantPorts = pd.read_excel('/content/drive/MyDrive/ACO/Supply chain logisitcs problem.xlsx', sheet_name='PlantPorts')"
      ],
      "metadata": {
        "id": "h3VWsCavlbrR"
      },
      "execution_count": 6,
      "outputs": []
    },
    {
      "cell_type": "code",
      "source": [
        "# Data cleaning for OrderList\n",
        "\n",
        "# OrderList format conversion\n",
        "OrderList['TPT'] = OrderList['TPT'].astype(int)\n",
        "OrderList['Ship ahead day count'] = OrderList['Ship ahead day count'].astype(int)\n",
        "OrderList['Ship Late Day count'] = OrderList['Ship Late Day count'].astype(int)\n",
        "OrderList['Unit quantity'] = OrderList['Unit quantity'].astype(int)\n",
        "OrderList['Weight'] = OrderList['Weight'].astype(float)\n",
        "# drop nulls form OrderList\n",
        "OrderList.dropna(inplace=True)\n",
        "# drop duplicates from OrderList\n",
        "OrderList.drop_duplicates(inplace=True)\n",
        "\n",
        "# Data cleaning for FreightRates\n",
        "\n",
        "# FreightRates format conversion\n",
        "FreightRates['minm_wgh_qty'] = FreightRates['minm_wgh_qty'].astype(int)\n",
        "FreightRates['max_wgh_qty'] = FreightRates['max_wgh_qty'].astype(float)\n",
        "FreightRates['minimum cost'] = FreightRates['minimum cost'].astype(float)\n",
        "FreightRates['rate'] = FreightRates['rate'].astype(float)\n",
        "FreightRates['tpt_day_cnt'] = FreightRates['tpt_day_cnt'].astype(int)\n",
        "# drop nulls form FreightRates\n",
        "FreightRates.dropna(inplace=True)\n",
        "# drop duplicates from FreightRates\n",
        "FreightRates.drop_duplicates(inplace=True)\n",
        "\n",
        "# Data cleaning for WhCosts\n",
        "\n",
        "# WhCosts format conversion\n",
        "WhCosts['Cost/unit'] = WhCosts['Cost/unit'].astype(float)\n",
        "# drop nulls form WhCosts\n",
        "WhCosts.dropna(inplace=True)\n",
        "# drop duplicates from WhCosts\n",
        "WhCosts.drop_duplicates(inplace=True)\n",
        "\n",
        "# Data cleaning for WhCapacities\n",
        "\n",
        "# WhCapacities format conversion\n",
        "WhCapacities['Daily Capacity '] = WhCapacities['Daily Capacity '].astype(int)\n",
        "# drop nulls form WhCapacities\n",
        "WhCapacities.dropna(inplace=True)\n",
        "# drop duplicates from WhCapacities\n",
        "WhCapacities.drop_duplicates(inplace=True)\n",
        "\n",
        "# Data cleaning for ProductsPerPlant\n",
        "\n",
        "# drop nulls form ProductsPerPlant\n",
        "ProductsPerPlant.dropna(inplace=True)\n",
        "# drop duplicates from ProductsPerPlant\n",
        "ProductsPerPlant.drop_duplicates(inplace=True)\n",
        "\n",
        "# Data cleaning for VmiCustomers\n",
        "\n",
        "# drop nulls form VmiCustomers\n",
        "VmiCustomers.dropna(inplace=True)\n",
        "# drop duplicates from VmiCustomers\n",
        "VmiCustomers.drop_duplicates(inplace=True)\n",
        "\n",
        "# Data cleaning for\n",
        "\n",
        "# drop nulls form PlantPorts\n",
        "PlantPorts.dropna(inplace=True)\n",
        "# drop duplicates from PlantPorts\n",
        "PlantPorts.drop_duplicates(inplace=True)"
      ],
      "metadata": {
        "id": "PIEbTFcemJCJ"
      },
      "execution_count": 7,
      "outputs": []
    },
    {
      "cell_type": "code",
      "source": [
        "print(OrderList.info())"
      ],
      "metadata": {
        "colab": {
          "base_uri": "https://localhost:8080/"
        },
        "id": "GJ2tnFCPsIXX",
        "outputId": "7e03e86b-72f4-4d0c-8eef-c01edd0611dd"
      },
      "execution_count": 8,
      "outputs": [
        {
          "output_type": "stream",
          "name": "stdout",
          "text": [
            "<class 'pandas.core.frame.DataFrame'>\n",
            "Int64Index: 9215 entries, 0 to 9214\n",
            "Data columns (total 14 columns):\n",
            " #   Column                Non-Null Count  Dtype         \n",
            "---  ------                --------------  -----         \n",
            " 0   Order ID              9215 non-null   float64       \n",
            " 1   Order Date            9215 non-null   datetime64[ns]\n",
            " 2   Origin Port           9215 non-null   object        \n",
            " 3   Carrier               9215 non-null   object        \n",
            " 4   TPT                   9215 non-null   int64         \n",
            " 5   Service Level         9215 non-null   object        \n",
            " 6   Ship ahead day count  9215 non-null   int64         \n",
            " 7   Ship Late Day count   9215 non-null   int64         \n",
            " 8   Customer              9215 non-null   object        \n",
            " 9   Product ID            9215 non-null   int64         \n",
            " 10  Plant Code            9215 non-null   object        \n",
            " 11  Destination Port      9215 non-null   object        \n",
            " 12  Unit quantity         9215 non-null   int64         \n",
            " 13  Weight                9215 non-null   float64       \n",
            "dtypes: datetime64[ns](1), float64(2), int64(5), object(6)\n",
            "memory usage: 1.1+ MB\n",
            "None\n"
          ]
        }
      ]
    },
    {
      "cell_type": "code",
      "source": [
        "print(FreightRates.info())"
      ],
      "metadata": {
        "colab": {
          "base_uri": "https://localhost:8080/"
        },
        "id": "a-hx6XhcsM1s",
        "outputId": "a41be40f-91dd-4cb6-d106-667771bd029b"
      },
      "execution_count": 9,
      "outputs": [
        {
          "output_type": "stream",
          "name": "stdout",
          "text": [
            "<class 'pandas.core.frame.DataFrame'>\n",
            "Int64Index: 1537 entries, 0 to 1539\n",
            "Data columns (total 11 columns):\n",
            " #   Column        Non-Null Count  Dtype  \n",
            "---  ------        --------------  -----  \n",
            " 0   Carrier       1537 non-null   object \n",
            " 1   orig_port_cd  1537 non-null   object \n",
            " 2   dest_port_cd  1537 non-null   object \n",
            " 3   minm_wgh_qty  1537 non-null   int64  \n",
            " 4   max_wgh_qty   1537 non-null   float64\n",
            " 5   svc_cd        1537 non-null   object \n",
            " 6   minimum cost  1537 non-null   float64\n",
            " 7   rate          1537 non-null   float64\n",
            " 8   mode_dsc      1537 non-null   object \n",
            " 9   tpt_day_cnt   1537 non-null   int64  \n",
            " 10  Carrier type  1537 non-null   object \n",
            "dtypes: float64(3), int64(2), object(6)\n",
            "memory usage: 144.1+ KB\n",
            "None\n"
          ]
        }
      ]
    },
    {
      "cell_type": "code",
      "source": [
        "print(WhCosts.info())"
      ],
      "metadata": {
        "colab": {
          "base_uri": "https://localhost:8080/"
        },
        "id": "1FtnyiffsOGc",
        "outputId": "ec14f82c-357a-4607-df5c-cde3f9a1f321"
      },
      "execution_count": 10,
      "outputs": [
        {
          "output_type": "stream",
          "name": "stdout",
          "text": [
            "<class 'pandas.core.frame.DataFrame'>\n",
            "Int64Index: 19 entries, 0 to 18\n",
            "Data columns (total 2 columns):\n",
            " #   Column     Non-Null Count  Dtype  \n",
            "---  ------     --------------  -----  \n",
            " 0   WH         19 non-null     object \n",
            " 1   Cost/unit  19 non-null     float64\n",
            "dtypes: float64(1), object(1)\n",
            "memory usage: 456.0+ bytes\n",
            "None\n"
          ]
        }
      ]
    },
    {
      "cell_type": "code",
      "source": [
        "print(WhCapacities.info())"
      ],
      "metadata": {
        "colab": {
          "base_uri": "https://localhost:8080/"
        },
        "id": "Pjd8SF7ksQ7W",
        "outputId": "271f0579-90c6-4aa4-9798-798b56915d90"
      },
      "execution_count": 11,
      "outputs": [
        {
          "output_type": "stream",
          "name": "stdout",
          "text": [
            "<class 'pandas.core.frame.DataFrame'>\n",
            "Int64Index: 19 entries, 0 to 18\n",
            "Data columns (total 2 columns):\n",
            " #   Column           Non-Null Count  Dtype \n",
            "---  ------           --------------  ----- \n",
            " 0   Plant ID         19 non-null     object\n",
            " 1   Daily Capacity   19 non-null     int64 \n",
            "dtypes: int64(1), object(1)\n",
            "memory usage: 456.0+ bytes\n",
            "None\n"
          ]
        }
      ]
    },
    {
      "cell_type": "code",
      "source": [
        "print(ProductsPerPlant.info())"
      ],
      "metadata": {
        "colab": {
          "base_uri": "https://localhost:8080/"
        },
        "id": "L0Dpy0QdsR_p",
        "outputId": "0dd51f85-1c03-48f2-e470-3bcc74cc0512"
      },
      "execution_count": 12,
      "outputs": [
        {
          "output_type": "stream",
          "name": "stdout",
          "text": [
            "<class 'pandas.core.frame.DataFrame'>\n",
            "Int64Index: 2036 entries, 0 to 2035\n",
            "Data columns (total 2 columns):\n",
            " #   Column      Non-Null Count  Dtype \n",
            "---  ------      --------------  ----- \n",
            " 0   Plant Code  2036 non-null   object\n",
            " 1   Product ID  2036 non-null   int64 \n",
            "dtypes: int64(1), object(1)\n",
            "memory usage: 47.7+ KB\n",
            "None\n"
          ]
        }
      ]
    },
    {
      "cell_type": "code",
      "source": [
        "print(VmiCustomers.info())"
      ],
      "metadata": {
        "colab": {
          "base_uri": "https://localhost:8080/"
        },
        "id": "yLN2e4w7sTMQ",
        "outputId": "98aad931-2d19-4cd9-d827-d77db0d24e13"
      },
      "execution_count": 13,
      "outputs": [
        {
          "output_type": "stream",
          "name": "stdout",
          "text": [
            "<class 'pandas.core.frame.DataFrame'>\n",
            "Int64Index: 14 entries, 0 to 13\n",
            "Data columns (total 2 columns):\n",
            " #   Column      Non-Null Count  Dtype \n",
            "---  ------      --------------  ----- \n",
            " 0   Plant Code  14 non-null     object\n",
            " 1   Customers   14 non-null     object\n",
            "dtypes: object(2)\n",
            "memory usage: 336.0+ bytes\n",
            "None\n"
          ]
        }
      ]
    },
    {
      "cell_type": "code",
      "source": [
        "print(PlantPorts.info())"
      ],
      "metadata": {
        "colab": {
          "base_uri": "https://localhost:8080/"
        },
        "id": "_OAKQHpKsUTE",
        "outputId": "4018d39f-b80b-4f14-8bb3-38ec4e6b2819"
      },
      "execution_count": 14,
      "outputs": [
        {
          "output_type": "stream",
          "name": "stdout",
          "text": [
            "<class 'pandas.core.frame.DataFrame'>\n",
            "Int64Index: 22 entries, 0 to 21\n",
            "Data columns (total 2 columns):\n",
            " #   Column      Non-Null Count  Dtype \n",
            "---  ------      --------------  ----- \n",
            " 0   Plant Code  22 non-null     object\n",
            " 1   Port        22 non-null     object\n",
            "dtypes: object(2)\n",
            "memory usage: 528.0+ bytes\n",
            "None\n"
          ]
        }
      ]
    }
  ]
}