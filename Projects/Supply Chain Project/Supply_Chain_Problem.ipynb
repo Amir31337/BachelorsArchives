{
  "nbformat": 4,
  "nbformat_minor": 0,
  "metadata": {
    "colab": {
      "name": "Supply Chain Problem",
      "provenance": [],
      "collapsed_sections": []
    },
    "kernelspec": {
      "name": "python3",
      "display_name": "Python 3"
    },
    "language_info": {
      "name": "python"
    }
  },
  "cells": [
    {
      "cell_type": "code",
      "execution_count": 80,
      "metadata": {
        "colab": {
          "base_uri": "https://localhost:8080/"
        },
        "id": "pnoDEsc4eRkt",
        "outputId": "1d6daad0-7897-4560-fb86-469ac41ffa62"
      },
      "outputs": [
        {
          "output_type": "stream",
          "name": "stdout",
          "text": [
            "Looking in indexes: https://pypi.org/simple, https://us-python.pkg.dev/colab-wheels/public/simple/\n",
            "Requirement already satisfied: openpyxl in /usr/local/lib/python3.7/dist-packages (3.0.10)\n",
            "Requirement already satisfied: et-xmlfile in /usr/local/lib/python3.7/dist-packages (from openpyxl) (1.1.0)\n",
            "Looking in indexes: https://pypi.org/simple, https://us-python.pkg.dev/colab-wheels/public/simple/\n",
            "Requirement already satisfied: pulp in /usr/local/lib/python3.7/dist-packages (2.6.0)\n",
            "Drive already mounted at /content/drive; to attempt to forcibly remount, call drive.mount(\"/content/drive\", force_remount=True).\n"
          ]
        }
      ],
      "source": [
        "import numpy as np\n",
        "import pandas as pd\n",
        "import networkx as nx\n",
        "import matplotlib.pyplot as plt\n",
        "import plotly.graph_objects as go\n",
        "import seaborn as sns\n",
        "\n",
        "!pip install openpyxl\n",
        "!pip install pulp\n",
        "\n",
        "import pulp\n",
        "\n",
        "from google.colab import drive\n",
        "drive.mount('/content/drive')"
      ]
    },
    {
      "cell_type": "code",
      "source": [
        "# reading in all the csv files\n",
        "file = pd.ExcelFile(\"/content/drive/MyDrive/ACO/KAGGLE/Supply chain logisitcs problem.xlsx\")\n",
        "plant_ports = file.parse(\"PlantPorts\")\n",
        "order_list = file.parse(\"OrderList\")\n",
        "products_plants = file.parse(\"ProductsPerPlant\")\n",
        "vmi_plants = file.parse(\"VmiCustomers\")\n",
        "freight_rates = file.parse(\"FreightRates\")\n",
        "wh_cost = file.parse(\"WhCosts\")\n",
        "wh_capacities = file.parse(\"WhCapacities\")"
      ],
      "metadata": {
        "id": "h3VWsCavlbrR"
      },
      "execution_count": 81,
      "outputs": []
    },
    {
      "cell_type": "code",
      "source": [
        "# Data cleaning for order_list\n",
        "\n",
        "# order_list format conversion\n",
        "order_list['TPT'] = order_list['TPT'].astype(int)\n",
        "order_list['Ship ahead day count'] = order_list['Ship ahead day count'].astype(int)\n",
        "order_list['Ship Late Day count'] = order_list['Ship Late Day count'].astype(int)\n",
        "order_list['Unit quantity'] = order_list['Unit quantity'].astype(int)\n",
        "order_list['Weight'] = order_list['Weight'].astype(float)\n",
        "# drop nulls form order_list\n",
        "order_list.dropna(inplace=True)\n",
        "# drop duplicates from order_list\n",
        "order_list.drop_duplicates(inplace=True)\n",
        "\n",
        "# Data cleaning for freight_rates\n",
        "\n",
        "# freight_rates format conversion\n",
        "freight_rates['minm_wgh_qty'] = freight_rates['minm_wgh_qty'].astype(int)\n",
        "freight_rates['max_wgh_qty'] = freight_rates['max_wgh_qty'].astype(float)\n",
        "freight_rates['minimum cost'] = freight_rates['minimum cost'].astype(float)\n",
        "freight_rates['rate'] = freight_rates['rate'].astype(float)\n",
        "freight_rates['tpt_day_cnt'] = freight_rates['tpt_day_cnt'].astype(int)\n",
        "# drop nulls form freight_rates\n",
        "freight_rates.dropna(inplace=True)\n",
        "# drop duplicates from freight_rates\n",
        "freight_rates.drop_duplicates(inplace=True)\n",
        "\n",
        "# Data cleaning for wh_cost\n",
        "\n",
        "# wh_cost format conversion\n",
        "wh_cost['Cost/unit'] = wh_cost['Cost/unit'].astype(float)\n",
        "# drop nulls form wh_cost\n",
        "wh_cost.dropna(inplace=True)\n",
        "# drop duplicates from wh_cost\n",
        "wh_cost.drop_duplicates(inplace=True)\n",
        "\n",
        "# Data cleaning for wh_capacities\n",
        "\n",
        "# wh_cost format conversion\n",
        "wh_capacities['Daily Capacity '] = wh_capacities['Daily Capacity '].astype(int)\n",
        "# drop nulls form wh_capacities\n",
        "wh_capacities.dropna(inplace=True)\n",
        "# drop duplicates from wh_capacities\n",
        "wh_capacities.drop_duplicates(inplace=True)\n",
        "\n",
        "# Data cleaning for products_plants\n",
        "\n",
        "# drop nulls form products_plants\n",
        "products_plants.dropna(inplace=True)\n",
        "# drop duplicates from products_plants\n",
        "products_plants.drop_duplicates(inplace=True)\n",
        "\n",
        "# Data cleaning for vmi_plants\n",
        "\n",
        "# drop nulls form vmi_plants\n",
        "vmi_plants.dropna(inplace=True)\n",
        "# drop duplicates from vmi_plants\n",
        "vmi_plants.drop_duplicates(inplace=True)\n",
        "\n",
        "# Data cleaning for\n",
        "\n",
        "# drop nulls form plant_ports\n",
        "plant_ports.dropna(inplace=True)\n",
        "# drop duplicates from plant_ports\n",
        "plant_ports.drop_duplicates(inplace=True)"
      ],
      "metadata": {
        "id": "PIEbTFcemJCJ"
      },
      "execution_count": 82,
      "outputs": []
    },
    {
      "cell_type": "code",
      "source": [
        "print(order_list.info())"
      ],
      "metadata": {
        "colab": {
          "base_uri": "https://localhost:8080/"
        },
        "id": "XTivnsoP2HOQ",
        "outputId": "818105df-c073-4302-d51c-3c4286699df0"
      },
      "execution_count": 83,
      "outputs": [
        {
          "output_type": "stream",
          "name": "stdout",
          "text": [
            "<class 'pandas.core.frame.DataFrame'>\n",
            "Int64Index: 9215 entries, 0 to 9214\n",
            "Data columns (total 14 columns):\n",
            " #   Column                Non-Null Count  Dtype         \n",
            "---  ------                --------------  -----         \n",
            " 0   Order ID              9215 non-null   float64       \n",
            " 1   Order Date            9215 non-null   datetime64[ns]\n",
            " 2   Origin Port           9215 non-null   object        \n",
            " 3   Carrier               9215 non-null   object        \n",
            " 4   TPT                   9215 non-null   int64         \n",
            " 5   Service Level         9215 non-null   object        \n",
            " 6   Ship ahead day count  9215 non-null   int64         \n",
            " 7   Ship Late Day count   9215 non-null   int64         \n",
            " 8   Customer              9215 non-null   object        \n",
            " 9   Product ID            9215 non-null   int64         \n",
            " 10  Plant Code            9215 non-null   object        \n",
            " 11  Destination Port      9215 non-null   object        \n",
            " 12  Unit quantity         9215 non-null   int64         \n",
            " 13  Weight                9215 non-null   float64       \n",
            "dtypes: datetime64[ns](1), float64(2), int64(5), object(6)\n",
            "memory usage: 1.1+ MB\n",
            "None\n"
          ]
        }
      ]
    },
    {
      "cell_type": "code",
      "source": [
        "print(freight_rates.info())"
      ],
      "metadata": {
        "id": "A8_9AwyYHv7S",
        "colab": {
          "base_uri": "https://localhost:8080/"
        },
        "outputId": "c12459bf-3c98-4788-df1a-924b1eee3aab"
      },
      "execution_count": 84,
      "outputs": [
        {
          "output_type": "stream",
          "name": "stdout",
          "text": [
            "<class 'pandas.core.frame.DataFrame'>\n",
            "Int64Index: 1537 entries, 0 to 1539\n",
            "Data columns (total 11 columns):\n",
            " #   Column        Non-Null Count  Dtype  \n",
            "---  ------        --------------  -----  \n",
            " 0   Carrier       1537 non-null   object \n",
            " 1   orig_port_cd  1537 non-null   object \n",
            " 2   dest_port_cd  1537 non-null   object \n",
            " 3   minm_wgh_qty  1537 non-null   int64  \n",
            " 4   max_wgh_qty   1537 non-null   float64\n",
            " 5   svc_cd        1537 non-null   object \n",
            " 6   minimum cost  1537 non-null   float64\n",
            " 7   rate          1537 non-null   float64\n",
            " 8   mode_dsc      1537 non-null   object \n",
            " 9   tpt_day_cnt   1537 non-null   int64  \n",
            " 10  Carrier type  1537 non-null   object \n",
            "dtypes: float64(3), int64(2), object(6)\n",
            "memory usage: 144.1+ KB\n",
            "None\n"
          ]
        }
      ]
    },
    {
      "cell_type": "code",
      "source": [
        "print(wh_cost.info())"
      ],
      "metadata": {
        "colab": {
          "base_uri": "https://localhost:8080/"
        },
        "id": "XJyOfHz42MJJ",
        "outputId": "159c2649-f3f1-4e27-fed1-c72f8c3295e9"
      },
      "execution_count": 85,
      "outputs": [
        {
          "output_type": "stream",
          "name": "stdout",
          "text": [
            "<class 'pandas.core.frame.DataFrame'>\n",
            "Int64Index: 19 entries, 0 to 18\n",
            "Data columns (total 2 columns):\n",
            " #   Column     Non-Null Count  Dtype  \n",
            "---  ------     --------------  -----  \n",
            " 0   WH         19 non-null     object \n",
            " 1   Cost/unit  19 non-null     float64\n",
            "dtypes: float64(1), object(1)\n",
            "memory usage: 456.0+ bytes\n",
            "None\n"
          ]
        }
      ]
    },
    {
      "cell_type": "code",
      "source": [
        "print(wh_cost.info())"
      ],
      "metadata": {
        "colab": {
          "base_uri": "https://localhost:8080/"
        },
        "id": "IDoh8MSs2NVP",
        "outputId": "635d4137-c99a-43c8-fe40-1b24aac947f3"
      },
      "execution_count": 86,
      "outputs": [
        {
          "output_type": "stream",
          "name": "stdout",
          "text": [
            "<class 'pandas.core.frame.DataFrame'>\n",
            "Int64Index: 19 entries, 0 to 18\n",
            "Data columns (total 2 columns):\n",
            " #   Column     Non-Null Count  Dtype  \n",
            "---  ------     --------------  -----  \n",
            " 0   WH         19 non-null     object \n",
            " 1   Cost/unit  19 non-null     float64\n",
            "dtypes: float64(1), object(1)\n",
            "memory usage: 456.0+ bytes\n",
            "None\n"
          ]
        }
      ]
    },
    {
      "cell_type": "code",
      "source": [
        "print(products_plants.info())"
      ],
      "metadata": {
        "colab": {
          "base_uri": "https://localhost:8080/"
        },
        "id": "2DNse0Pn2Onr",
        "outputId": "9b82a262-f3bb-4e45-e745-862700a13984"
      },
      "execution_count": 87,
      "outputs": [
        {
          "output_type": "stream",
          "name": "stdout",
          "text": [
            "<class 'pandas.core.frame.DataFrame'>\n",
            "Int64Index: 2036 entries, 0 to 2035\n",
            "Data columns (total 2 columns):\n",
            " #   Column      Non-Null Count  Dtype \n",
            "---  ------      --------------  ----- \n",
            " 0   Plant Code  2036 non-null   object\n",
            " 1   Product ID  2036 non-null   int64 \n",
            "dtypes: int64(1), object(1)\n",
            "memory usage: 47.7+ KB\n",
            "None\n"
          ]
        }
      ]
    },
    {
      "cell_type": "code",
      "source": [
        "print(vmi_plants.info())"
      ],
      "metadata": {
        "colab": {
          "base_uri": "https://localhost:8080/"
        },
        "id": "mWWqlxz_2QGt",
        "outputId": "ac5d4fe7-1919-44d0-8450-791e406fd1f8"
      },
      "execution_count": 88,
      "outputs": [
        {
          "output_type": "stream",
          "name": "stdout",
          "text": [
            "<class 'pandas.core.frame.DataFrame'>\n",
            "Int64Index: 14 entries, 0 to 13\n",
            "Data columns (total 2 columns):\n",
            " #   Column      Non-Null Count  Dtype \n",
            "---  ------      --------------  ----- \n",
            " 0   Plant Code  14 non-null     object\n",
            " 1   Customers   14 non-null     object\n",
            "dtypes: object(2)\n",
            "memory usage: 336.0+ bytes\n",
            "None\n"
          ]
        }
      ]
    },
    {
      "cell_type": "code",
      "source": [
        "print(plant_ports.info())"
      ],
      "metadata": {
        "colab": {
          "base_uri": "https://localhost:8080/"
        },
        "id": "GW95TvUw2RUq",
        "outputId": "d9001eae-f4a0-430a-fabc-148b2a6948c1"
      },
      "execution_count": 89,
      "outputs": [
        {
          "output_type": "stream",
          "name": "stdout",
          "text": [
            "<class 'pandas.core.frame.DataFrame'>\n",
            "Int64Index: 22 entries, 0 to 21\n",
            "Data columns (total 2 columns):\n",
            " #   Column      Non-Null Count  Dtype \n",
            "---  ------      --------------  ----- \n",
            " 0   Plant Code  22 non-null     object\n",
            " 1   Port        22 non-null     object\n",
            "dtypes: object(2)\n",
            "memory usage: 528.0+ bytes\n",
            "None\n"
          ]
        }
      ]
    },
    {
      "cell_type": "code",
      "source": [
        "# changing column names\n",
        "order_list.columns = [i.replace(\" \", \"_\") for i in order_list.columns]\n",
        "products_plants.columns = [i.replace(\" \", \"_\") for i in products_plants.columns]\n",
        "plant_ports.columns = [i.replace(\" \", \"_\") for i in plant_ports.columns]\n",
        "vmi_plants.columns = [i.replace(\" \", \"_\") for i in vmi_plants.columns]\n",
        "wh_cost.set_index(\"WH\", inplace=True)\n",
        "\n",
        "plant_ports_graph = nx.from_pandas_edgelist(plant_ports, source=\"Plant_Code\", target=\"Port\")"
      ],
      "metadata": {
        "id": "qqY5RBPZ4Yte"
      },
      "execution_count": 90,
      "outputs": []
    },
    {
      "cell_type": "code",
      "source": [
        "fig, ax = plt.subplots(figsize=(10,10))\n",
        "ax.set_facecolor(\"Grey\")\n",
        "\n",
        "# specify layout for the graph\n",
        "# layout = nx.bipartite_layout(plant_ports_graph, plant_ports[\"Plant Code\"])\n",
        "\n",
        "layout = nx.bipartite_layout(plant_ports_graph, plant_ports[\"Plant_Code\"])\n",
        "\n",
        "for i in layout:\n",
        "    if i.startswith(\"PLANT\"):\n",
        "        layout[i][0] -= 0.1\n",
        "    else:\n",
        "        layout[i][0] += 0.1\n",
        "\n",
        "# we want to map the degree of the node to a color/size\n",
        "degrees = dict(plant_ports_graph.degree)\n",
        "maps = [v*100 for v in degrees.values()]\n",
        "\n",
        "# specify the color map\n",
        "cmap = plt.cm.Blues\n",
        "\n",
        "# keyword args that are the same for both functions\n",
        "kwargs = {\"pos\":layout, \"ax\":ax}\n",
        "\n",
        "nx.draw_networkx_nodes(plant_ports_graph, node_size=maps, node_color=maps, cmap=cmap, **kwargs)\n",
        "nx.draw_networkx_edges(plant_ports_graph, **kwargs)\n",
        "nx.draw_networkx_labels(plant_ports_graph, pos=layout)\n",
        "plt.show()"
      ],
      "metadata": {
        "colab": {
          "base_uri": "https://localhost:8080/",
          "height": 575
        },
        "id": "WDTc1Ned4qOG",
        "outputId": "9a4d8d9f-0844-4558-c623-20f58232c852"
      },
      "execution_count": 91,
      "outputs": [
        {
          "output_type": "display_data",
          "data": {
            "text/plain": [
              "<Figure size 720x720 with 1 Axes>"
            ],
            "image/png": "[encoded data removed]"
          },
          "metadata": {}
        }
      ]
    },
    {
      "cell_type": "code",
      "source": [
        "# get starting and ending points of the edges and add them to the graph\n",
        "layout = nx.bipartite_layout(plant_ports_graph, plant_ports[\"Plant_Code\"])\n",
        "\n",
        "edge_x = []\n",
        "edge_y = []\n",
        "\n",
        "for edge in plant_ports_graph.edges():\n",
        "    x0, y0 = layout[edge[0]]\n",
        "    x1, y1 = layout[edge[1]]\n",
        "    \n",
        "    edge_x.append(x0)\n",
        "    edge_x.append(x1)\n",
        "    edge_x.append(None)\n",
        "    edge_y.append(y0)\n",
        "    edge_y.append(y1)\n",
        "    edge_y.append(None)\n",
        "    \n",
        "edge_trace = go.Scatter(\n",
        "    x=edge_x, y=edge_y,\n",
        "    line=dict(width=0.5, color='#25488e'),\n",
        "    hoverinfo='none',\n",
        "    mode='lines')\n",
        "\n",
        "# get coordinated of nodes and add them to the graph\n",
        "\n",
        "node_x = []\n",
        "node_y = []\n",
        "for node in plant_ports_graph.nodes():\n",
        "    x, y = layout[node]\n",
        "    node_x.append(x)\n",
        "    node_y.append(y)\n",
        "    \n",
        "maps = [v for v in degrees.values()]\n",
        "\n",
        "node_trace = go.Scatter(\n",
        "    x=node_x, y=node_y,\n",
        "    mode='markers',\n",
        "    hoverinfo='text',\n",
        "    marker=dict(\n",
        "        showscale=True,\n",
        "        colorscale='YlGnBu',\n",
        "        reversescale=True,\n",
        "        color=maps,\n",
        "        size=10,\n",
        "        colorbar=dict(\n",
        "            thickness=15,\n",
        "            title='Node Connections',\n",
        "            xanchor='left',\n",
        "            titleside='right'\n",
        "        ),\n",
        "        line_width=2))\n",
        "\n",
        "node_trace.text = [i + \" Number of Links: \" + str(degrees[i]) for i in degrees]\n",
        "\n",
        "fig = go.Figure(data=[edge_trace, node_trace],\n",
        "             layout=go.Layout(\n",
        "                title='<br>Supply Chain',\n",
        "                titlefont_size=16,\n",
        "                showlegend=False,\n",
        "                hovermode='closest',\n",
        "                margin=dict(b=20,l=5,r=5,t=40),\n",
        "                annotations=[dict(text=\"Factories\",\n",
        "                     showarrow=False,\n",
        "                     xref=\"paper\", yref=\"paper\",\n",
        "                     x=0.005, y=-0.002 ),\n",
        "                             dict(text=\"Ports\",\n",
        "                     showarrow=False,\n",
        "                     xref=\"paper\", yref=\"paper\",\n",
        "                     x=0.95, y=-0.002 )],\n",
        "                xaxis=dict(showgrid=True, zeroline=False, showticklabels=True),\n",
        "                yaxis=dict(showgrid=True, zeroline=False, showticklabels=True))\n",
        "                )\n",
        "fig"
      ],
      "metadata": {
        "colab": {
          "base_uri": "https://localhost:8080/",
          "height": 542
        },
        "id": "eXSishdg401b",
        "outputId": "a300d333-4634-479c-dee5-022e9b5d9bd8"
      },
      "execution_count": 92,
      "outputs": [
        {
          "output_type": "display_data",
          "data": {
            "text/html": [
              "<html>\n",
              "<head><meta charset=\"utf-8\" /></head>\n",
              "<body>\n",
              "    <div>            <script src=\"https://cdnjs.cloudflare.com/ajax/libs/mathjax/2.7.5/MathJax.js?config=TeX-AMS-MML_SVG\"></script><script type=\"text/javascript\">if (window.MathJax) {MathJax.Hub.Config({SVG: {font: \"STIX-Web\"}});}</script>                <script type=\"text/javascript\">window.PlotlyConfig = {MathJaxConfig: 'local'};</script>\n",
              "        <script src=\"https://cdn.plot.ly/plotly-2.8.3.min.js\"></script>                <div id=\"30ef6a9d-f2d9-478f-beb9-096bbc122aaa\" class=\"plotly-graph-div\" style=\"height:525px; width:100%;\"></div>            <script type=\"text/javascript\">                                    window.PLOTLYENV=window.PLOTLYENV || {};                                    if (document.getElementById(\"30ef6a9d-f2d9-478f-beb9-096bbc122aaa\")) {                    Plotly.newPlot(                        \"30ef6a9d-f2d9-478f-beb9-096bbc122aaa\",                        [{\"hoverinfo\":\"none\",\"line\":{\"color\":\"#25488e\",\"width\":0.5},\"mode\":\"lines\",\"x\":[-0.5789473684210528,1.0,null,-0.5789473684210528,1.0,null,1.0,-0.5789473684210528,null,1.0,-0.5789473684210528,null,1.0,-0.5789473684210528,null,1.0,-0.5789473684210528,null,-0.5789473684210528,1.0,null,-0.5789473684210528,1.0,null,1.0,-0.5789473684210528,null,1.0,-0.5789473684210528,null,1.0,-0.5789473684210528,null,1.0,-0.5789473684210528,null,1.0,-0.5789473684210528,null,1.0,-0.5789473684210528,null,-0.5789473684210528,1.0,null,-0.5789473684210528,1.0,null,1.0,-0.5789473684210528,null,-0.5789473684210528,1.0,null,-0.5789473684210528,1.0,null,-0.5789473684210528,1.0,null,-0.5789473684210528,1.0,null,-0.5789473684210528,1.0,null],\"y\":[-0.32894736842105265,-0.3552631578947369,null,-0.32894736842105265,-0.11842105263157894,null,-0.3552631578947369,-0.1973684210526316,null,-0.3552631578947369,0.3947368421052631,null,-0.11842105263157894,-0.1973684210526316,null,-0.11842105263157894,0.3947368421052631,null,-0.13157894736842113,-0.23684210526315788,null,0.5263157894736843,-0.4736842105263159,null,-0.4736842105263159,0.06578947368421056,null,-0.4736842105263159,-0.5921052631578948,null,-0.4736842105263159,-0.3947368421052632,null,-0.4736842105263159,-0.06578947368421055,null,-0.4736842105263159,0.131578947368421,null,-0.4736842105263159,0.19736842105263155,null,-0.26315789473684215,0.11842105263157907,null,0.26315789473684215,4.3824593077308816e-18,null,4.3824593077308816e-18,0.5921052631578948,null,-0.46052631578947373,-0.5921052631578948,null,4.3824593077308816e-18,0.35526315789473695,null,-0.5263157894736843,0.4736842105263159,null,0.32894736842105254,0.236842105263158,null,0.4605263157894737,0.5921052631578948,null],\"type\":\"scatter\"},{\"hoverinfo\":\"text\",\"marker\":{\"color\":[2,3,3,1,1,1,7,1,1,1,2,1,2,1,1,2,1,1,1,1,1,1,1,1,1,1,1,1,1,1],\"colorbar\":{\"thickness\":15,\"title\":{\"side\":\"right\",\"text\":\"Node Connections\"},\"xanchor\":\"left\"},\"colorscale\":[[0.0,\"rgb(255,255,217)\"],[0.125,\"rgb(237,248,177)\"],[0.25,\"rgb(199,233,180)\"],[0.375,\"rgb(127,205,187)\"],[0.5,\"rgb(65,182,196)\"],[0.625,\"rgb(29,145,192)\"],[0.75,\"rgb(34,94,168)\"],[0.875,\"rgb(37,52,148)\"],[1.0,\"rgb(8,29,88)\"]],\"line\":{\"width\":2},\"reversescale\":true,\"showscale\":true,\"size\":10},\"mode\":\"markers\",\"text\":[\"PLANT01 Number of Links: 2\",\"PORT01 Number of Links: 3\",\"PORT02 Number of Links: 3\",\"PLANT02 Number of Links: 1\",\"PORT03 Number of Links: 1\",\"PLANT03 Number of Links: 1\",\"PORT04 Number of Links: 7\",\"PLANT04 Number of Links: 1\",\"PORT05 Number of Links: 1\",\"PLANT05 Number of Links: 1\",\"PORT06 Number of Links: 2\",\"PLANT06 Number of Links: 1\",\"PLANT07 Number of Links: 2\",\"PLANT08 Number of Links: 1\",\"PLANT09 Number of Links: 1\",\"PLANT10 Number of Links: 2\",\"PLANT11 Number of Links: 1\",\"PLANT12 Number of Links: 1\",\"PLANT13 Number of Links: 1\",\"PLANT14 Number of Links: 1\",\"PORT07 Number of Links: 1\",\"PLANT15 Number of Links: 1\",\"PORT08 Number of Links: 1\",\"PLANT16 Number of Links: 1\",\"PORT09 Number of Links: 1\",\"PLANT17 Number of Links: 1\",\"PORT10 Number of Links: 1\",\"PLANT18 Number of Links: 1\",\"PORT11 Number of Links: 1\",\"PLANT19 Number of Links: 1\"],\"x\":[-0.5789473684210528,1.0,1.0,-0.5789473684210528,1.0,-0.5789473684210528,1.0,-0.5789473684210528,1.0,-0.5789473684210528,1.0,-0.5789473684210528,-0.5789473684210528,-0.5789473684210528,-0.5789473684210528,-0.5789473684210528,-0.5789473684210528,-0.5789473684210528,-0.5789473684210528,-0.5789473684210528,1.0,-0.5789473684210528,1.0,-0.5789473684210528,1.0,-0.5789473684210528,1.0,-0.5789473684210528,1.0,-0.5789473684210528],\"y\":[-0.32894736842105265,-0.3552631578947369,-0.11842105263157894,-0.13157894736842113,-0.23684210526315788,0.5263157894736843,-0.4736842105263159,-0.26315789473684215,0.11842105263157907,0.26315789473684215,4.3824593077308816e-18,0.5921052631578948,-0.1973684210526316,0.06578947368421056,-0.5921052631578948,0.3947368421052631,-0.3947368421052632,-0.06578947368421055,0.131578947368421,-0.46052631578947373,-0.5921052631578948,4.3824593077308816e-18,0.35526315789473695,-0.5263157894736843,0.4736842105263159,0.32894736842105254,0.236842105263158,0.4605263157894737,0.5921052631578948,0.19736842105263155],\"type\":\"scatter\"}],                        {\"annotations\":[{\"showarrow\":false,\"text\":\"Factories\",\"x\":0.005,\"xref\":\"paper\",\"y\":-0.002,\"yref\":\"paper\"},{\"showarrow\":false,\"text\":\"Ports\",\"x\":0.95,\"xref\":\"paper\",\"y\":-0.002,\"yref\":\"paper\"}],\"hovermode\":\"closest\",\"margin\":{\"b\":20,\"l\":5,\"r\":5,\"t\":40},\"showlegend\":false,\"title\":{\"font\":{\"size\":16},\"text\":\"<br>Supply Chain\"},\"xaxis\":{\"showgrid\":true,\"showticklabels\":true,\"zeroline\":false},\"yaxis\":{\"showgrid\":true,\"showticklabels\":true,\"zeroline\":false},\"template\":{\"data\":{\"bar\":[{\"error_x\":{\"color\":\"#2a3f5f\"},\"error_y\":{\"color\":\"#2a3f5f\"},\"marker\":{\"line\":{\"color\":\"#E5ECF6\",\"width\":0.5},\"pattern\":{\"fillmode\":\"overlay\",\"size\":10,\"solidity\":0.2}},\"type\":\"bar\"}],\"barpolar\":[{\"marker\":{\"line\":{\"color\":\"#E5ECF6\",\"width\":0.5},\"pattern\":{\"fillmode\":\"overlay\",\"size\":10,\"solidity\":0.2}},\"type\":\"barpolar\"}],\"carpet\":[{\"aaxis\":{\"endlinecolor\":\"#2a3f5f\",\"gridcolor\":\"white\",\"linecolor\":\"white\",\"minorgridcolor\":\"white\",\"startlinecolor\":\"#2a3f5f\"},\"baxis\":{\"endlinecolor\":\"#2a3f5f\",\"gridcolor\":\"white\",\"linecolor\":\"white\",\"minorgridcolor\":\"white\",\"startlinecolor\":\"#2a3f5f\"},\"type\":\"carpet\"}],\"choropleth\":[{\"colorbar\":{\"outlinewidth\":0,\"ticks\":\"\"},\"type\":\"choropleth\"}],\"contour\":[{\"colorbar\":{\"outlinewidth\":0,\"ticks\":\"\"},\"colorscale\":[[0.0,\"#0d0887\"],[0.1111111111111111,\"#46039f\"],[0.2222222222222222,\"#7201a8\"],[0.3333333333333333,\"#9c179e\"],[0.4444444444444444,\"#bd3786\"],[0.5555555555555556,\"#d8576b\"],[0.6666666666666666,\"#ed7953\"],[0.7777777777777778,\"#fb9f3a\"],[0.8888888888888888,\"#fdca26\"],[1.0,\"#f0f921\"]],\"type\":\"contour\"}],\"contourcarpet\":[{\"colorbar\":{\"outlinewidth\":0,\"ticks\":\"\"},\"type\":\"contourcarpet\"}],\"heatmap\":[{\"colorbar\":{\"outlinewidth\":0,\"ticks\":\"\"},\"colorscale\":[[0.0,\"#0d0887\"],[0.1111111111111111,\"#46039f\"],[0.2222222222222222,\"#7201a8\"],[0.3333333333333333,\"#9c179e\"],[0.4444444444444444,\"#bd3786\"],[0.5555555555555556,\"#d8576b\"],[0.6666666666666666,\"#ed7953\"],[0.7777777777777778,\"#fb9f3a\"],[0.8888888888888888,\"#fdca26\"],[1.0,\"#f0f921\"]],\"type\":\"heatmap\"}],\"heatmapgl\":[{\"colorbar\":{\"outlinewidth\":0,\"ticks\":\"\"},\"colorscale\":[[0.0,\"#0d0887\"],[0.1111111111111111,\"#46039f\"],[0.2222222222222222,\"#7201a8\"],[0.3333333333333333,\"#9c179e\"],[0.4444444444444444,\"#bd3786\"],[0.5555555555555556,\"#d8576b\"],[0.6666666666666666,\"#ed7953\"],[0.7777777777777778,\"#fb9f3a\"],[0.8888888888888888,\"#fdca26\"],[1.0,\"#f0f921\"]],\"type\":\"heatmapgl\"}],\"histogram\":[{\"marker\":{\"pattern\":{\"fillmode\":\"overlay\",\"size\":10,\"solidity\":0.2}},\"type\":\"histogram\"}],\"histogram2d\":[{\"colorbar\":{\"outlinewidth\":0,\"ticks\":\"\"},\"colorscale\":[[0.0,\"#0d0887\"],[0.1111111111111111,\"#46039f\"],[0.2222222222222222,\"#7201a8\"],[0.3333333333333333,\"#9c179e\"],[0.4444444444444444,\"#bd3786\"],[0.5555555555555556,\"#d8576b\"],[0.6666666666666666,\"#ed7953\"],[0.7777777777777778,\"#fb9f3a\"],[0.8888888888888888,\"#fdca26\"],[1.0,\"#f0f921\"]],\"type\":\"histogram2d\"}],\"histogram2dcontour\":[{\"colorbar\":{\"outlinewidth\":0,\"ticks\":\"\"},\"colorscale\":[[0.0,\"#0d0887\"],[0.1111111111111111,\"#46039f\"],[0.2222222222222222,\"#7201a8\"],[0.3333333333333333,\"#9c179e\"],[0.4444444444444444,\"#bd3786\"],[0.5555555555555556,\"#d8576b\"],[0.6666666666666666,\"#ed7953\"],[0.7777777777777778,\"#fb9f3a\"],[0.8888888888888888,\"#fdca26\"],[1.0,\"#f0f921\"]],\"type\":\"histogram2dcontour\"}],\"mesh3d\":[{\"colorbar\":{\"outlinewidth\":0,\"ticks\":\"\"},\"type\":\"mesh3d\"}],\"parcoords\":[{\"line\":{\"colorbar\":{\"outlinewidth\":0,\"ticks\":\"\"}},\"type\":\"parcoords\"}],\"pie\":[{\"automargin\":true,\"type\":\"pie\"}],\"scatter\":[{\"marker\":{\"colorbar\":{\"outlinewidth\":0,\"ticks\":\"\"}},\"type\":\"scatter\"}],\"scatter3d\":[{\"line\":{\"colorbar\":{\"outlinewidth\":0,\"ticks\":\"\"}},\"marker\":{\"colorbar\":{\"outlinewidth\":0,\"ticks\":\"\"}},\"type\":\"scatter3d\"}],\"scattercarpet\":[{\"marker\":{\"colorbar\":{\"outlinewidth\":0,\"ticks\":\"\"}},\"type\":\"scattercarpet\"}],\"scattergeo\":[{\"marker\":{\"colorbar\":{\"outlinewidth\":0,\"ticks\":\"\"}},\"type\":\"scattergeo\"}],\"scattergl\":[{\"marker\":{\"colorbar\":{\"outlinewidth\":0,\"ticks\":\"\"}},\"type\":\"scattergl\"}],\"scattermapbox\":[{\"marker\":{\"colorbar\":{\"outlinewidth\":0,\"ticks\":\"\"}},\"type\":\"scattermapbox\"}],\"scatterpolar\":[{\"marker\":{\"colorbar\":{\"outlinewidth\":0,\"ticks\":\"\"}},\"type\":\"scatterpolar\"}],\"scatterpolargl\":[{\"marker\":{\"colorbar\":{\"outlinewidth\":0,\"ticks\":\"\"}},\"type\":\"scatterpolargl\"}],\"scatterternary\":[{\"marker\":{\"colorbar\":{\"outlinewidth\":0,\"ticks\":\"\"}},\"type\":\"scatterternary\"}],\"surface\":[{\"colorbar\":{\"outlinewidth\":0,\"ticks\":\"\"},\"colorscale\":[[0.0,\"#0d0887\"],[0.1111111111111111,\"#46039f\"],[0.2222222222222222,\"#7201a8\"],[0.3333333333333333,\"#9c179e\"],[0.4444444444444444,\"#bd3786\"],[0.5555555555555556,\"#d8576b\"],[0.6666666666666666,\"#ed7953\"],[0.7777777777777778,\"#fb9f3a\"],[0.8888888888888888,\"#fdca26\"],[1.0,\"#f0f921\"]],\"type\":\"surface\"}],\"table\":[{\"cells\":{\"fill\":{\"color\":\"#EBF0F8\"},\"line\":{\"color\":\"white\"}},\"header\":{\"fill\":{\"color\":\"#C8D4E3\"},\"line\":{\"color\":\"white\"}},\"type\":\"table\"}]},\"layout\":{\"annotationdefaults\":{\"arrowcolor\":\"#2a3f5f\",\"arrowhead\":0,\"arrowwidth\":1},\"autotypenumbers\":\"strict\",\"coloraxis\":{\"colorbar\":{\"outlinewidth\":0,\"ticks\":\"\"}},\"colorscale\":{\"diverging\":[[0,\"#8e0152\"],[0.1,\"#c51b7d\"],[0.2,\"#de77ae\"],[0.3,\"#f1b6da\"],[0.4,\"#fde0ef\"],[0.5,\"#f7f7f7\"],[0.6,\"#e6f5d0\"],[0.7,\"#b8e186\"],[0.8,\"#7fbc41\"],[0.9,\"#4d9221\"],[1,\"#276419\"]],\"sequential\":[[0.0,\"#0d0887\"],[0.1111111111111111,\"#46039f\"],[0.2222222222222222,\"#7201a8\"],[0.3333333333333333,\"#9c179e\"],[0.4444444444444444,\"#bd3786\"],[0.5555555555555556,\"#d8576b\"],[0.6666666666666666,\"#ed7953\"],[0.7777777777777778,\"#fb9f3a\"],[0.8888888888888888,\"#fdca26\"],[1.0,\"#f0f921\"]],\"sequentialminus\":[[0.0,\"#0d0887\"],[0.1111111111111111,\"#46039f\"],[0.2222222222222222,\"#7201a8\"],[0.3333333333333333,\"#9c179e\"],[0.4444444444444444,\"#bd3786\"],[0.5555555555555556,\"#d8576b\"],[0.6666666666666666,\"#ed7953\"],[0.7777777777777778,\"#fb9f3a\"],[0.8888888888888888,\"#fdca26\"],[1.0,\"#f0f921\"]]},\"colorway\":[\"#636efa\",\"#EF553B\",\"#00cc96\",\"#ab63fa\",\"#FFA15A\",\"#19d3f3\",\"#FF6692\",\"#B6E880\",\"#FF97FF\",\"#FECB52\"],\"font\":{\"color\":\"#2a3f5f\"},\"geo\":{\"bgcolor\":\"white\",\"lakecolor\":\"white\",\"landcolor\":\"#E5ECF6\",\"showlakes\":true,\"showland\":true,\"subunitcolor\":\"white\"},\"hoverlabel\":{\"align\":\"left\"},\"hovermode\":\"closest\",\"mapbox\":{\"style\":\"light\"},\"paper_bgcolor\":\"white\",\"plot_bgcolor\":\"#E5ECF6\",\"polar\":{\"angularaxis\":{\"gridcolor\":\"white\",\"linecolor\":\"white\",\"ticks\":\"\"},\"bgcolor\":\"#E5ECF6\",\"radialaxis\":{\"gridcolor\":\"white\",\"linecolor\":\"white\",\"ticks\":\"\"}},\"scene\":{\"xaxis\":{\"backgroundcolor\":\"#E5ECF6\",\"gridcolor\":\"white\",\"gridwidth\":2,\"linecolor\":\"white\",\"showbackground\":true,\"ticks\":\"\",\"zerolinecolor\":\"white\"},\"yaxis\":{\"backgroundcolor\":\"#E5ECF6\",\"gridcolor\":\"white\",\"gridwidth\":2,\"linecolor\":\"white\",\"showbackground\":true,\"ticks\":\"\",\"zerolinecolor\":\"white\"},\"zaxis\":{\"backgroundcolor\":\"#E5ECF6\",\"gridcolor\":\"white\",\"gridwidth\":2,\"linecolor\":\"white\",\"showbackground\":true,\"ticks\":\"\",\"zerolinecolor\":\"white\"}},\"shapedefaults\":{\"line\":{\"color\":\"#2a3f5f\"}},\"ternary\":{\"aaxis\":{\"gridcolor\":\"white\",\"linecolor\":\"white\",\"ticks\":\"\"},\"baxis\":{\"gridcolor\":\"white\",\"linecolor\":\"white\",\"ticks\":\"\"},\"bgcolor\":\"#E5ECF6\",\"caxis\":{\"gridcolor\":\"white\",\"linecolor\":\"white\",\"ticks\":\"\"}},\"title\":{\"x\":0.05},\"xaxis\":{\"automargin\":true,\"gridcolor\":\"white\",\"linecolor\":\"white\",\"ticks\":\"\",\"title\":{\"standoff\":15},\"zerolinecolor\":\"white\",\"zerolinewidth\":2},\"yaxis\":{\"automargin\":true,\"gridcolor\":\"white\",\"linecolor\":\"white\",\"ticks\":\"\",\"title\":{\"standoff\":15},\"zerolinecolor\":\"white\",\"zerolinewidth\":2}}}},                        {\"responsive\": true}                    ).then(function(){\n",
              "                            \n",
              "var gd = document.getElementById('30ef6a9d-f2d9-478f-beb9-096bbc122aaa');\n",
              "var x = new MutationObserver(function (mutations, observer) {{\n",
              "        var display = window.getComputedStyle(gd).display;\n",
              "        if (!display || display === 'none') {{\n",
              "            console.log([gd, 'removed!']);\n",
              "            Plotly.purge(gd);\n",
              "            observer.disconnect();\n",
              "        }}\n",
              "}});\n",
              "\n",
              "// Listen for the removal of the full notebook cells\n",
              "var notebookContainer = gd.closest('#notebook-container');\n",
              "if (notebookContainer) {{\n",
              "    x.observe(notebookContainer, {childList: true});\n",
              "}}\n",
              "\n",
              "// Listen for the clearing of the current output cell\n",
              "var outputEl = gd.closest('.output');\n",
              "if (outputEl) {{\n",
              "    x.observe(outputEl, {childList: true});\n",
              "}}\n",
              "\n",
              "                        })                };                            </script>        </div>\n",
              "</body>\n",
              "</html>"
            ]
          },
          "metadata": {}
        }
      ]
    },
    {
      "cell_type": "markdown",
      "source": [
        "## Most facilities have only one connection to a port. Port 4 is potentially the most important one as it has the most connections to the warehouses.\n",
        "\n",
        "Preparing the Order Table\n",
        "The existing order table already contains a solution. We will delete those columns."
      ],
      "metadata": {
        "id": "V3sfJTbI5R0M"
      }
    },
    {
      "cell_type": "code",
      "source": [
        "order_new = order_list.drop(columns=[\"Order_Date\", \"Origin_Port\", \"Carrier\", \"Plant_Code\", \"TPT\", \"Service_Level\", \"Ship_ahead_day_count\", \"Ship_Late_Day_count\"])\n",
        "order_new.set_index(\"Order_ID\", inplace=True)\n",
        "order_new.to_csv(\"order_new.csv\")"
      ],
      "metadata": {
        "id": "bV3D_5Fp5o07"
      },
      "execution_count": 93,
      "outputs": []
    },
    {
      "cell_type": "markdown",
      "source": [
        "Preparing Freight Table"
      ],
      "metadata": {
        "id": "vMVbPDex5sE3"
      }
    },
    {
      "cell_type": "code",
      "source": [
        "freight_rates.drop(columns=[\"dest_port_cd\", \"Carrier type\", \"svc_cd\"], inplace=True)\n",
        "freight_rates.to_csv(\"FreightRates_mod.csv\")"
      ],
      "metadata": {
        "id": "S0In-_t15uYi"
      },
      "execution_count": 94,
      "outputs": []
    },
    {
      "cell_type": "markdown",
      "source": [
        "Problem Restrictions"
      ],
      "metadata": {
        "id": "0bfjYjpF5w4X"
      }
    },
    {
      "cell_type": "code",
      "source": [
        "# given a product id, return the plants that can produce this product.\n",
        "def product_restriction(index):\n",
        "    data = order_new.loc[index]\n",
        "    product_id = data[\"Product_ID\"]\n",
        "    possible_plants = products_plants.loc[products_plants[\"Product_ID\"] == product_id]\n",
        "    return np.array(possible_plants[\"Plant_Code\"])\n",
        "\n",
        "# vmi restriction: check if a given customer has to be serviced by a specific facility, else return all facilities as possibilities.\n",
        "def customer_restriction(index):\n",
        "    data = order_new.loc[index]\n",
        "    Customer_id = data[\"Customer\"]\n",
        "    possible_plants = vmi_plants.loc[vmi_plants[\"Customers\"] == Customer_id]\n",
        "    if list(possible_plants[\"Plant_Code\"]) == []:\n",
        "        return plant_ports[\"Plant_Code\"].unique()\n",
        "    else:\n",
        "        return np.array(possible_plants[\"Plant_Code\"])\n",
        "\n",
        "# combine both the product and vmi restriction. There will be orders for which only one, or possibly even 0, facilities can fullfil it.\n",
        "def check_order(Order_Id, length=True):\n",
        "    if length:\n",
        "        return len(np.intersect1d(customer_restriction(Order_Id), product_restriction(Order_Id)))\n",
        "    else:\n",
        "        return np.intersect1d(customer_restriction(Order_Id), product_restriction(Order_Id))\n",
        "\n",
        "# under the restrictions above, we can calculate the number of facilities that can process a given order.\n",
        "order_new[\"decision_space_size\"] = np.array(list(map(check_order, order_new.index)))"
      ],
      "metadata": {
        "id": "UNU5vx5l54ms"
      },
      "execution_count": 95,
      "outputs": []
    },
    {
      "cell_type": "code",
      "source": [
        "order_new[\"decision_space_size\"].value_counts()"
      ],
      "metadata": {
        "colab": {
          "base_uri": "https://localhost:8080/"
        },
        "id": "wFoDO4AL6KoY",
        "outputId": "b1743021-c016-4aae-bcae-bd612f07ace9"
      },
      "execution_count": 96,
      "outputs": [
        {
          "output_type": "execute_result",
          "data": {
            "text/plain": [
              "1    6275\n",
              "0    1045\n",
              "4     982\n",
              "2     785\n",
              "3     127\n",
              "5       1\n",
              "Name: decision_space_size, dtype: int64"
            ]
          },
          "metadata": {},
          "execution_count": 96
        }
      ]
    },
    {
      "cell_type": "markdown",
      "source": [
        "We can see that for most orders, there is only one facility that can handle the order. For ~1,000 there is no possible facility that can handle the order given our problem restrictions, we will exclude these orders from our further optimization problem.\n",
        "\n",
        "# Assigning orders\n",
        "\n",
        "Instead of using the specific rate for a carrier we will aggregate the rates for a given port. The main problem is that rates range from 0.03 to 128 which makes it hard to know the unit of measurement (e.g. €/kg or €/unit). Therefore I will average the rates for each port and use those as the costs."
      ],
      "metadata": {
        "id": "cNIRJW9s6NIx"
      }
    },
    {
      "cell_type": "code",
      "source": [
        "freight_rates[\"rate\"].describe()"
      ],
      "metadata": {
        "colab": {
          "base_uri": "https://localhost:8080/"
        },
        "id": "q69qqtOE6cxw",
        "outputId": "15a2cc88-46fc-403c-e494-02dbe3b3f34f"
      },
      "execution_count": 97,
      "outputs": [
        {
          "output_type": "execute_result",
          "data": {
            "text/plain": [
              "count    1537.000000\n",
              "mean        2.875135\n",
              "std         4.590475\n",
              "min         0.033200\n",
              "25%         0.451200\n",
              "50%         1.656800\n",
              "75%         3.916800\n",
              "max       128.027200\n",
              "Name: rate, dtype: float64"
            ]
          },
          "metadata": {},
          "execution_count": 97
        }
      ]
    },
    {
      "cell_type": "code",
      "source": [
        "ports_agg = freight_rates.groupby([\"orig_port_cd\"]).agg(avg_rate=(\"rate\", np.mean))\n",
        "# we will exclude orders that cannot be processed by any facility (i.e. where the decision space size == 0)\n",
        "order_new = order_new.loc[order_new.decision_space_size != 0]\n",
        "# return the possible plants that can process the order.\n",
        "order_new[\"decision_space_plants\"] = np.array((map(lambda x: check_order(x, length=False), order_new.index)))\n",
        "\n",
        "def min_cost(dec_space):\n",
        "    \n",
        "    plant_port_cost = {}\n",
        "    \n",
        "    wh = wh_cost.copy()\n",
        "    min_cost = np.inf\n",
        "    \n",
        "    for plant in dec_space:\n",
        "        plant_port_cost[plant] = wh.loc[plant].iloc[0]\n",
        "        port_price, port = find_best_port(plant)\n",
        "        plant_port_cost[plant] += port_price\n",
        "        \n",
        "        if plant_port_cost[plant] < min_cost:\n",
        "            min_cost = plant_port_cost[plant]\n",
        "            best_plant = plant\n",
        "            best_port = port\n",
        "            best_port_price = port_price\n",
        "        \n",
        "    return min_cost, best_plant, best_port_price, best_port\n",
        "\n",
        "# given a port and the order specifications return the carrier that can handle the product at the best price.\n",
        "def find_best_port(plant_id):\n",
        "    # choose the ports that have a connection to the given plant and then find the port with the lowest freight rate\n",
        "    possible_ports = plant_ports.loc[(plant_ports.Plant_Code == plant_id) & (plant_ports.Port != \"PORT01\"), \"Port\"]\n",
        "    possible_ports = ports_agg.loc[possible_ports]\n",
        "    return possible_ports.loc[possible_ports[\"avg_rate\"] == min(possible_ports[\"avg_rate\"])].iloc[0][\"avg_rate\"], possible_ports.loc[possible_ports[\"avg_rate\"] == min(possible_ports[\"avg_rate\"])].iloc[0].name\n",
        "\n",
        "order_new[\"decision\"] = order_new[\"decision_space_plants\"].apply(min_cost)"
      ],
      "metadata": {
        "id": "t90o0_L06hJD"
      },
      "execution_count": 98,
      "outputs": []
    },
    {
      "cell_type": "code",
      "source": [
        "order_new[\"decision\"]"
      ],
      "metadata": {
        "colab": {
          "base_uri": "https://localhost:8080/"
        },
        "id": "YvGoCbrI627h",
        "outputId": "4fcfcf53-69c5-4383-9087-e9b122ee0e9e"
      },
      "execution_count": 99,
      "outputs": [
        {
          "output_type": "execute_result",
          "data": {
            "text/plain": [
              "Order_ID\n",
              "1.447296e+09    (4.7563741745191, PLANT16, 2.8365666666666662,...\n",
              "1.447158e+09    (4.7563741745191, PLANT16, 2.8365666666666662,...\n",
              "1.447139e+09    (4.7563741745191, PLANT16, 2.8365666666666662,...\n",
              "1.447364e+09    (4.7563741745191, PLANT16, 2.8365666666666662,...\n",
              "1.447364e+09    (4.7563741745191, PLANT16, 2.8365666666666662,...\n",
              "                                      ...                        \n",
              "1.447372e+09        (10.321903518927222, PLANT02, 9.8444, PORT03)\n",
              "1.447372e+09        (10.321903518927222, PLANT02, 9.8444, PORT03)\n",
              "1.447328e+09        (10.321903518927222, PLANT02, 9.8444, PORT03)\n",
              "1.447358e+09        (10.321903518927222, PLANT02, 9.8444, PORT03)\n",
              "1.447287e+09        (10.321903518927222, PLANT02, 9.8444, PORT03)\n",
              "Name: decision, Length: 8170, dtype: object"
            ]
          },
          "metadata": {},
          "execution_count": 99
        }
      ]
    },
    {
      "cell_type": "code",
      "source": [
        "decision = order_new[\"decision\"].tolist()\n",
        "lenn = len(decision)\n",
        "min_cost_list = []\n",
        "for i in range(lenn):\n",
        "  min_cost_list.append(decision[i][0])\n",
        "best_plant_list = []\n",
        "for i in range(lenn):\n",
        "  best_plant_list.append(decision[i][1])\n",
        "best_port_price_list = []\n",
        "for i in range(lenn):\n",
        "  best_port_price_list.append(decision[i][2])\n",
        "best_port_list = []\n",
        "for i in range(lenn):\n",
        "  best_port_list.append(decision[i][3])\n",
        "\n",
        "decision_dataframe = pd.DataFrame(\n",
        "    {'min_cost': min_cost_list,\n",
        "     'best_plant': best_plant_list,\n",
        "     'best_port_price': best_port_price_list,\n",
        "     'best_port': best_port_list,\n",
        "    })"
      ],
      "metadata": {
        "id": "7ihwoRd763Bn"
      },
      "execution_count": 100,
      "outputs": []
    },
    {
      "cell_type": "code",
      "source": [
        "decision_dataframe"
      ],
      "metadata": {
        "colab": {
          "base_uri": "https://localhost:8080/",
          "height": 424
        },
        "id": "orem_4Yr-tMr",
        "outputId": "d9d16ccd-55ae-4f6e-f090-53496c74eb11"
      },
      "execution_count": 101,
      "outputs": [
        {
          "output_type": "execute_result",
          "data": {
            "text/plain": [
              "       min_cost best_plant  best_port_price best_port\n",
              "0      4.756374    PLANT16         2.836567    PORT09\n",
              "1      4.756374    PLANT16         2.836567    PORT09\n",
              "2      4.756374    PLANT16         2.836567    PORT09\n",
              "3      4.756374    PLANT16         2.836567    PORT09\n",
              "4      4.756374    PLANT16         2.836567    PORT09\n",
              "...         ...        ...              ...       ...\n",
              "8165  10.321904    PLANT02         9.844400    PORT03\n",
              "8166  10.321904    PLANT02         9.844400    PORT03\n",
              "8167  10.321904    PLANT02         9.844400    PORT03\n",
              "8168  10.321904    PLANT02         9.844400    PORT03\n",
              "8169  10.321904    PLANT02         9.844400    PORT03\n",
              "\n",
              "[8170 rows x 4 columns]"
            ],
            "text/html": [
              "\n",
              "  <div id=\"df-7be543cf-672a-4c62-8128-3f3d7021beeb\">\n",
              "    <div class=\"colab-df-container\">\n",
              "      <div>\n",
              "<style scoped>\n",
              "    .dataframe tbody tr th:only-of-type {\n",
              "        vertical-align: middle;\n",
              "    }\n",
              "\n",
              "    .dataframe tbody tr th {\n",
              "        vertical-align: top;\n",
              "    }\n",
              "\n",
              "    .dataframe thead th {\n",
              "        text-align: right;\n",
              "    }\n",
              "</style>\n",
              "<table border=\"1\" class=\"dataframe\">\n",
              "  <thead>\n",
              "    <tr style=\"text-align: right;\">\n",
              "      <th></th>\n",
              "      <th>min_cost</th>\n",
              "      <th>best_plant</th>\n",
              "      <th>best_port_price</th>\n",
              "      <th>best_port</th>\n",
              "    </tr>\n",
              "  </thead>\n",
              "  <tbody>\n",
              "    <tr>\n",
              "      <th>0</th>\n",
              "      <td>4.756374</td>\n",
              "      <td>PLANT16</td>\n",
              "      <td>2.836567</td>\n",
              "      <td>PORT09</td>\n",
              "    </tr>\n",
              "    <tr>\n",
              "      <th>1</th>\n",
              "      <td>4.756374</td>\n",
              "      <td>PLANT16</td>\n",
              "      <td>2.836567</td>\n",
              "      <td>PORT09</td>\n",
              "    </tr>\n",
              "    <tr>\n",
              "      <th>2</th>\n",
              "      <td>4.756374</td>\n",
              "      <td>PLANT16</td>\n",
              "      <td>2.836567</td>\n",
              "      <td>PORT09</td>\n",
              "    </tr>\n",
              "    <tr>\n",
              "      <th>3</th>\n",
              "      <td>4.756374</td>\n",
              "      <td>PLANT16</td>\n",
              "      <td>2.836567</td>\n",
              "      <td>PORT09</td>\n",
              "    </tr>\n",
              "    <tr>\n",
              "      <th>4</th>\n",
              "      <td>4.756374</td>\n",
              "      <td>PLANT16</td>\n",
              "      <td>2.836567</td>\n",
              "      <td>PORT09</td>\n",
              "    </tr>\n",
              "    <tr>\n",
              "      <th>...</th>\n",
              "      <td>...</td>\n",
              "      <td>...</td>\n",
              "      <td>...</td>\n",
              "      <td>...</td>\n",
              "    </tr>\n",
              "    <tr>\n",
              "      <th>8165</th>\n",
              "      <td>10.321904</td>\n",
              "      <td>PLANT02</td>\n",
              "      <td>9.844400</td>\n",
              "      <td>PORT03</td>\n",
              "    </tr>\n",
              "    <tr>\n",
              "      <th>8166</th>\n",
              "      <td>10.321904</td>\n",
              "      <td>PLANT02</td>\n",
              "      <td>9.844400</td>\n",
              "      <td>PORT03</td>\n",
              "    </tr>\n",
              "    <tr>\n",
              "      <th>8167</th>\n",
              "      <td>10.321904</td>\n",
              "      <td>PLANT02</td>\n",
              "      <td>9.844400</td>\n",
              "      <td>PORT03</td>\n",
              "    </tr>\n",
              "    <tr>\n",
              "      <th>8168</th>\n",
              "      <td>10.321904</td>\n",
              "      <td>PLANT02</td>\n",
              "      <td>9.844400</td>\n",
              "      <td>PORT03</td>\n",
              "    </tr>\n",
              "    <tr>\n",
              "      <th>8169</th>\n",
              "      <td>10.321904</td>\n",
              "      <td>PLANT02</td>\n",
              "      <td>9.844400</td>\n",
              "      <td>PORT03</td>\n",
              "    </tr>\n",
              "  </tbody>\n",
              "</table>\n",
              "<p>8170 rows × 4 columns</p>\n",
              "</div>\n",
              "      <button class=\"colab-df-convert\" onclick=\"convertToInteractive('df-7be543cf-672a-4c62-8128-3f3d7021beeb')\"\n",
              "              title=\"Convert this dataframe to an interactive table.\"\n",
              "              style=\"display:none;\">\n",
              "        \n",
              "  <svg xmlns=\"http://www.w3.org/2000/svg\" height=\"24px\"viewBox=\"0 0 24 24\"\n",
              "       width=\"24px\">\n",
              "    <path d=\"M0 0h24v24H0V0z\" fill=\"none\"/>\n",
              "    <path d=\"M18.56 5.44l.94 2.06.94-2.06 2.06-.94-2.06-.94-.94-2.06-.94 2.06-2.06.94zm-11 1L8.5 8.5l.94-2.06 2.06-.94-2.06-.94L8.5 2.5l-.94 2.06-2.06.94zm10 10l.94 2.06.94-2.06 2.06-.94-2.06-.94-.94-2.06-.94 2.06-2.06.94z\"/><path d=\"M17.41 7.96l-1.37-1.37c-.4-.4-.92-.59-1.43-.59-.52 0-1.04.2-1.43.59L10.3 9.45l-7.72 7.72c-.78.78-.78 2.05 0 2.83L4 21.41c.39.39.9.59 1.41.59.51 0 1.02-.2 1.41-.59l7.78-7.78 2.81-2.81c.8-.78.8-2.07 0-2.86zM5.41 20L4 18.59l7.72-7.72 1.47 1.35L5.41 20z\"/>\n",
              "  </svg>\n",
              "      </button>\n",
              "      \n",
              "  <style>\n",
              "    .colab-df-container {\n",
              "      display:flex;\n",
              "      flex-wrap:wrap;\n",
              "      gap: 12px;\n",
              "    }\n",
              "\n",
              "    .colab-df-convert {\n",
              "      background-color: #E8F0FE;\n",
              "      border: none;\n",
              "      border-radius: 50%;\n",
              "      cursor: pointer;\n",
              "      display: none;\n",
              "      fill: #1967D2;\n",
              "      height: 32px;\n",
              "      padding: 0 0 0 0;\n",
              "      width: 32px;\n",
              "    }\n",
              "\n",
              "    .colab-df-convert:hover {\n",
              "      background-color: #E2EBFA;\n",
              "      box-shadow: 0px 1px 2px rgba(60, 64, 67, 0.3), 0px 1px 3px 1px rgba(60, 64, 67, 0.15);\n",
              "      fill: #174EA6;\n",
              "    }\n",
              "\n",
              "    [theme=dark] .colab-df-convert {\n",
              "      background-color: #3B4455;\n",
              "      fill: #D2E3FC;\n",
              "    }\n",
              "\n",
              "    [theme=dark] .colab-df-convert:hover {\n",
              "      background-color: #434B5C;\n",
              "      box-shadow: 0px 1px 3px 1px rgba(0, 0, 0, 0.15);\n",
              "      filter: drop-shadow(0px 1px 2px rgba(0, 0, 0, 0.3));\n",
              "      fill: #FFFFFF;\n",
              "    }\n",
              "  </style>\n",
              "\n",
              "      <script>\n",
              "        const buttonEl =\n",
              "          document.querySelector('#df-7be543cf-672a-4c62-8128-3f3d7021beeb button.colab-df-convert');\n",
              "        buttonEl.style.display =\n",
              "          google.colab.kernel.accessAllowed ? 'block' : 'none';\n",
              "\n",
              "        async function convertToInteractive(key) {\n",
              "          const element = document.querySelector('#df-7be543cf-672a-4c62-8128-3f3d7021beeb');\n",
              "          const dataTable =\n",
              "            await google.colab.kernel.invokeFunction('convertToInteractive',\n",
              "                                                     [key], {});\n",
              "          if (!dataTable) return;\n",
              "\n",
              "          const docLinkHtml = 'Like what you see? Visit the ' +\n",
              "            '<a target=\"_blank\" href=https://colab.research.google.com/notebooks/data_table.ipynb>data table notebook</a>'\n",
              "            + ' to learn more about interactive tables.';\n",
              "          element.innerHTML = '';\n",
              "          dataTable['output_type'] = 'display_data';\n",
              "          await google.colab.output.renderOutput(dataTable, element);\n",
              "          const docLink = document.createElement('div');\n",
              "          docLink.innerHTML = docLinkHtml;\n",
              "          element.appendChild(docLink);\n",
              "        }\n",
              "      </script>\n",
              "    </div>\n",
              "  </div>\n",
              "  "
            ]
          },
          "metadata": {},
          "execution_count": 101
        }
      ]
    },
    {
      "cell_type": "code",
      "source": [
        "from google.colab import drive\n",
        "\n",
        "drive.mount('/content/drive')\n",
        "path = '/content/drive/MyDrive/ACO/KAGGLE/decision.csv'\n",
        "\n",
        "with open(path, 'w', encoding = 'utf-8-sig') as f:\n",
        "  decision_dataframe.to_csv('decision.csv', sep='\\t', encoding='utf-8')"
      ],
      "metadata": {
        "colab": {
          "base_uri": "https://localhost:8080/"
        },
        "id": "wNsHTynA_W_C",
        "outputId": "4b2acc9f-9ee5-498b-e8b8-b74a8a5abc51"
      },
      "execution_count": 102,
      "outputs": [
        {
          "output_type": "stream",
          "name": "stdout",
          "text": [
            "Drive already mounted at /content/drive; to attempt to forcibly remount, call drive.mount(\"/content/drive\", force_remount=True).\n"
          ]
        }
      ]
    },
    {
      "cell_type": "code",
      "source": [
        "fig, ax = plt.subplots(1,1, figsize=(10,7))\n",
        "plt.xticks(rotation=45)\n",
        "plant_counts = pd.DataFrame(products_plants[\"Plant_Code\"].value_counts())\n",
        "ax.bar(plant_counts.index, plant_counts[\"Plant_Code\"])\n",
        "plt.title(\"Number of Products that each plant manufactures\")\n",
        "plt.show()"
      ],
      "metadata": {
        "colab": {
          "base_uri": "https://localhost:8080/",
          "height": 473
        },
        "id": "QtC9Bh-G-5yl",
        "outputId": "e9e8dbcc-1052-400e-c7d9-e98b77572fa5"
      },
      "execution_count": 103,
      "outputs": [
        {
          "output_type": "display_data",
          "data": {
            "text/plain": [
              "<Figure size 720x504 with 1 Axes>"
            ],
            "image/png": "[encoded data removed]"
          },
          "metadata": {
            "needs_background": "light"
          }
        }
      ]
    },
    {
      "cell_type": "code",
      "source": [
        "fig, ax = plt.subplots(1,1, figsize=(10,7))\n",
        "plt.xticks(rotation=45)\n",
        "ax.bar(wh_cost.index, wh_cost[\"Cost/unit\"])\n",
        "plt.title(\"Manufacturing Cost for each Plant\")\n",
        "plt.show()"
      ],
      "metadata": {
        "colab": {
          "base_uri": "https://localhost:8080/",
          "height": 473
        },
        "id": "YfAA8oF1-7DU",
        "outputId": "ea427923-e60a-4784-9fca-2f004f32717e"
      },
      "execution_count": 104,
      "outputs": [
        {
          "output_type": "display_data",
          "data": {
            "text/plain": [
              "<Figure size 720x504 with 1 Axes>"
            ],
            "image/png": "[encoded data removed]"
          },
          "metadata": {
            "needs_background": "light"
          }
        }
      ]
    }
  ]
}